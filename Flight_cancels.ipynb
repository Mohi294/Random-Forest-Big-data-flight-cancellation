{
  "nbformat": 4,
  "nbformat_minor": 0,
  "metadata": {
    "colab": {
      "name": "Copy of Flight_cancels.ipynb",
      "provenance": []
    },
    "kernelspec": {
      "name": "python3",
      "display_name": "Python 3"
    },
    "language_info": {
      "name": "python"
    }
  },
  "cells": [
    {
      "cell_type": "code",
      "execution_count": null,
      "metadata": {
        "colab": {
          "base_uri": "https://localhost:8080/"
        },
        "id": "4UZuEJvFXHNn",
        "outputId": "5091d72f-a4f1-43d3-b971-6ea91d56f100"
      },
      "outputs": [
        {
          "output_type": "stream",
          "name": "stdout",
          "text": [
            "Looking in indexes: https://pypi.org/simple, https://us-python.pkg.dev/colab-wheels/public/simple/\n",
            "Collecting pyspark==3.0.3\n",
            "  Downloading pyspark-3.0.3.tar.gz (209.1 MB)\n",
            "\u001b[K     |████████████████████████████████| 209.1 MB 65 kB/s \n",
            "\u001b[?25hCollecting py4j==0.10.9\n",
            "  Downloading py4j-0.10.9-py2.py3-none-any.whl (198 kB)\n",
            "\u001b[K     |████████████████████████████████| 198 kB 45.6 MB/s \n",
            "\u001b[?25hBuilding wheels for collected packages: pyspark\n",
            "  Building wheel for pyspark (setup.py) ... \u001b[?25l\u001b[?25hdone\n",
            "  Created wheel for pyspark: filename=pyspark-3.0.3-py2.py3-none-any.whl size=209435971 sha256=cbe16f7412b6691bbb7b5b1aa7ced49fc4b0a1d5942cb05d016d98e81b02ec7a\n",
            "  Stored in directory: /root/.cache/pip/wheels/7e/6d/0a/6b0bf301bc056d9af03194b732b9f49ad2fceb205aab2984fd\n",
            "Successfully built pyspark\n",
            "Installing collected packages: py4j, pyspark\n",
            "Successfully installed py4j-0.10.9 pyspark-3.0.3\n"
          ]
        }
      ],
      "source": [
        "# Install spark-related dependencies\n",
        "!apt-get install openjdk-8-jdk-headless -qq > /dev/null\n",
        "!wget -q http://apache.osuosl.org/spark/spark-3.0.3/spark-3.0.3-bin-hadoop3.2.tgz\n",
        "!tar xf spark-3.0.3-bin-hadoop3.2.tgz\n",
        "\n",
        "!pip install -q findspark\n",
        "!pip install pyspark==3.0.3\n",
        "# Set up required environment variables\n",
        "\n",
        "import os\n",
        "os.environ[\"JAVA_HOME\"] = \"/usr/lib/jvm/java-8-openjdk-amd64\"\n",
        "os.environ[\"SPARK_HOME\"] = \"/content/spark-3.0.3-bin-hadoop3.2\""
      ]
    },
    {
      "cell_type": "code",
      "source": [
        "# Point Colaboratory to your Google Drive\n",
        "\n",
        "from google.colab import drive\n",
        "drive.mount('/content/gdrive')"
      ],
      "metadata": {
        "colab": {
          "base_uri": "https://localhost:8080/"
        },
        "id": "imuB2CEaXJ79",
        "outputId": "af51b1fe-5a6c-488e-bbf3-869db4a2fd98"
      },
      "execution_count": null,
      "outputs": [
        {
          "output_type": "stream",
          "name": "stdout",
          "text": [
            "Mounted at /content/gdrive\n"
          ]
        }
      ]
    },
    {
      "cell_type": "code",
      "source": [
        "# Tools we need to connect to the Spark server, load our data,\n",
        "# clean it and prepare it\n",
        "from pyspark import SparkContext\n",
        "from pyspark.sql import SparkSession\n",
        "\n",
        "from pyspark.ml import Pipeline\n",
        "from pyspark.ml.classification import RandomForestClassifier\n",
        "from pyspark.ml.feature import IndexToString, StringIndexer, VectorIndexer, VectorAssembler\n",
        "from pyspark.ml.evaluation import MulticlassClassificationEvaluator\n",
        "\n",
        "from pyspark.sql.functions import isnan, when, count, col\n",
        "# Set up constants\n",
        "CSV_combined= \"/content/gdrive/My Drive/Colab Datasets/combined.csv\" \n",
        "APP_NAME = \"Flight Delays\"\n",
        "SPARK_URL = \"local[*]\"\n",
        "RANDOM_SEED = 141109\n",
        "TRAINING_DATA_RATIO = 0.7\n",
        "RF_NUM_TREES = 8\n",
        "RF_MAX_DEPTH = 4\n",
        "RF_NUM_BINS = 32"
      ],
      "metadata": {
        "id": "shFVu1dSXnj1"
      },
      "execution_count": null,
      "outputs": []
    },
    {
      "cell_type": "code",
      "source": [
        "\n",
        "# Connect to the Spark server\n",
        "\n",
        "spark = SparkSession.builder.appName(APP_NAME).master(SPARK_URL).getOrCreate()\n",
        "\n",
        "\n",
        "# Load datasets\n",
        "\n",
        "df_combined = spark.read.options(header=\"true\",inferschema = \"true\").csv(CSV_combined)\n",
        "\n",
        "\n",
        "# We concatenate both datasets\n",
        "\n",
        "df = df_combined"
      ],
      "metadata": {
        "id": "KuEnNJgJXxHw"
      },
      "execution_count": null,
      "outputs": []
    },
    {
      "cell_type": "code",
      "source": [
        "print(f\"The shape is {df.count():d} rows by {len(df.columns):d} columns.\")"
      ],
      "metadata": {
        "colab": {
          "base_uri": "https://localhost:8080/"
        },
        "id": "S8PkZwF5X0PU",
        "outputId": "64fba7ac-2c08-4974-d589-a156b19ee878"
      },
      "execution_count": null,
      "outputs": [
        {
          "output_type": "stream",
          "name": "stdout",
          "text": [
            "The shape is 22000 rows by 30 columns.\n"
          ]
        }
      ]
    },
    {
      "cell_type": "code",
      "source": [
        "null_counts = df.select([count(when(isnan(c) | col(c).isNull(), c)).alias(c)for c in df.columns]).toPandas().to_dict(orient='records')\n",
        "print(f\"We have {sum(null_counts[0].values()):d} null values in this dataset.\")"
      ],
      "metadata": {
        "colab": {
          "base_uri": "https://localhost:8080/"
        },
        "id": "Yas3g0_6YHxF",
        "outputId": "da9aff41-364d-4f98-9f60-78fa905e058d"
      },
      "execution_count": null,
      "outputs": [
        {
          "output_type": "stream",
          "name": "stdout",
          "text": [
            "We have 138804 null values in this dataset.\n"
          ]
        }
      ]
    },
    {
      "cell_type": "code",
      "source": [
        "df = df.drop(df.CancellationCode)\n",
        "df = df.na.drop()"
      ],
      "metadata": {
        "id": "Ja4H21RJcuqu"
      },
      "execution_count": null,
      "outputs": []
    },
    {
      "cell_type": "code",
      "source": [
        "df.dtypes\n"
      ],
      "metadata": {
        "colab": {
          "base_uri": "https://localhost:8080/"
        },
        "id": "obYZq2pwc1SY",
        "outputId": "1aa171de-fed1-41f0-e85d-22ecc8632568"
      },
      "execution_count": null,
      "outputs": [
        {
          "output_type": "execute_result",
          "data": {
            "text/plain": [
              "[('_c0', 'int'),\n",
              " ('Year', 'int'),\n",
              " ('Month', 'int'),\n",
              " ('DayofMonth', 'int'),\n",
              " ('DayOfWeek', 'int'),\n",
              " ('DepTime', 'double'),\n",
              " ('CRSDepTime', 'int'),\n",
              " ('ArrTime', 'double'),\n",
              " ('CRSArrTime', 'int'),\n",
              " ('UniqueCarrier', 'string'),\n",
              " ('FlightNum', 'int'),\n",
              " ('TailNum', 'string'),\n",
              " ('ActualElapsedTime', 'double'),\n",
              " ('CRSElapsedTime', 'double'),\n",
              " ('AirTime', 'double'),\n",
              " ('ArrDelay', 'double'),\n",
              " ('DepDelay', 'double'),\n",
              " ('Origin', 'string'),\n",
              " ('Dest', 'string'),\n",
              " ('Distance', 'double'),\n",
              " ('TaxiIn', 'double'),\n",
              " ('TaxiOut', 'double'),\n",
              " ('Cancelled', 'int'),\n",
              " ('Diverted', 'int'),\n",
              " ('CarrierDelay', 'double'),\n",
              " ('WeatherDelay', 'double'),\n",
              " ('NASDelay', 'double'),\n",
              " ('SecurityDelay', 'double'),\n",
              " ('LateAircraftDelay', 'double')]"
            ]
          },
          "metadata": {},
          "execution_count": 40
        }
      ]
    },
    {
      "cell_type": "code",
      "source": [
        "df.select('Cancelled').distinct().rdd.map(lambda r: r[0]).collect()\n"
      ],
      "metadata": {
        "colab": {
          "base_uri": "https://localhost:8080/"
        },
        "id": "4yQLAK08c7yK",
        "outputId": "b2a02aff-5407-41e8-8ba1-a8c09527e18a"
      },
      "execution_count": null,
      "outputs": [
        {
          "output_type": "execute_result",
          "data": {
            "text/plain": [
              "[1, 0]"
            ]
          },
          "metadata": {},
          "execution_count": 41
        }
      ]
    },
    {
      "cell_type": "code",
      "source": [
        "feature_cols = ['_c0', 'Year', 'Month', 'DayofMonth',\n",
        "                'DayOfWeek', 'CRSDepTime', 'CRSArrTime',\n",
        "                'FlightNum', 'Diverted']"
      ],
      "metadata": {
        "id": "gZMZn1vac_sM"
      },
      "execution_count": null,
      "outputs": []
    },
    {
      "cell_type": "code",
      "source": [
        "df = VectorAssembler(inputCols=feature_cols, outputCol=\"features\").transform(df)"
      ],
      "metadata": {
        "id": "UOuYzmw_iVRu"
      },
      "execution_count": null,
      "outputs": []
    },
    {
      "cell_type": "code",
      "source": [
        "df.select(\"Cancelled\", \"features\").show(5)\n"
      ],
      "metadata": {
        "colab": {
          "base_uri": "https://localhost:8080/"
        },
        "id": "9BReDlbdi8Uo",
        "outputId": "ec6a7a93-3f30-49a1-86f4-75585060abb3"
      },
      "execution_count": null,
      "outputs": [
        {
          "output_type": "stream",
          "name": "stdout",
          "text": [
            "+---------+--------------------+\n",
            "|Cancelled|            features|\n",
            "+---------+--------------------+\n",
            "|        0|[16003.0,2003.0,1...|\n",
            "|        0|[16004.0,2003.0,1...|\n",
            "|        0|[16005.0,2003.0,6...|\n",
            "|        0|[16008.0,2003.0,7...|\n",
            "|        0|[16009.0,2003.0,1...|\n",
            "+---------+--------------------+\n",
            "only showing top 5 rows\n",
            "\n"
          ]
        }
      ]
    },
    {
      "cell_type": "code",
      "source": [
        "# Generate a labelIndexer\n",
        "labelIndexer = StringIndexer(inputCol=\"Cancelled\", outputCol=\"indexedLabel\").fit(df)\n",
        "\n",
        "# Generate the indexed feature vector\n",
        "featureIndexer = VectorIndexer(inputCol=\"features\", outputCol=\"indexedFeatures\", maxCategories=4).fit(df)\n",
        "    \n",
        "# Split the data into training and tests sets\n",
        "(trainingData, testData) = df.randomSplit([TRAINING_DATA_RATIO, 1 - TRAINING_DATA_RATIO])\n",
        "\n",
        "# Train the RandomForest model\n",
        "rf = RandomForestClassifier(labelCol=\"indexedLabel\", featuresCol=\"indexedFeatures\", numTrees=RF_NUM_TREES)\n",
        "\n",
        "# Chain indexers and the forest models in a Pipeline\n",
        "pipeline = Pipeline(stages=[labelIndexer, featureIndexer, rf])"
      ],
      "metadata": {
        "id": "-xQHXgmNjB6A"
      },
      "execution_count": null,
      "outputs": []
    },
    {
      "cell_type": "code",
      "source": [
        "# Train model\n",
        "model = pipeline.fit(trainingData)\n",
        "# Make predictions\n",
        "predictions = model.transform(testData)"
      ],
      "metadata": {
        "id": "-AAwL6dLlZ-H"
      },
      "execution_count": null,
      "outputs": []
    },
    {
      "cell_type": "code",
      "source": [
        "evaluator = MulticlassClassificationEvaluator(\n",
        "    labelCol=\"indexedLabel\", predictionCol=\"prediction\", metricName=\"accuracy\")\n",
        "accuracy = evaluator.evaluate(predictions)\n",
        "print(f\"Test Error = {(1.0 - accuracy):g}\")\n",
        "print(f\"Accuracy = {accuracy:g}\")"
      ],
      "metadata": {
        "colab": {
          "base_uri": "https://localhost:8080/"
        },
        "id": "JncI9t7Flh0N",
        "outputId": "10da98ad-bbf3-4e92-e9a4-087f5a8b2ea6"
      },
      "execution_count": null,
      "outputs": [
        {
          "output_type": "stream",
          "name": "stdout",
          "text": [
            "Test Error = 0.00257566\n",
            "Accuracy = 0.997424\n"
          ]
        }
      ]
    },
    {
      "cell_type": "code",
      "source": [
        ""
      ],
      "metadata": {
        "id": "iRCUDQgklrEG"
      },
      "execution_count": null,
      "outputs": []
    }
  ]
}